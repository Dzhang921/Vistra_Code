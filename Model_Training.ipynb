{
 "cells": [
  {
   "cell_type": "code",
   "execution_count": 5,
   "metadata": {},
   "outputs": [],
   "source": [
    "# Import packages\n",
    "import pandas as pd\n",
    "import numpy as np\n",
    "import matplotlib.pyplot as plt\n",
    "import xgboost as xgb\n",
    "from sklearn.model_selection import GridSearchCV, train_test_split\n"
   ]
  },
  {
   "cell_type": "code",
   "execution_count": 4,
   "metadata": {},
   "outputs": [],
   "source": [
    "# Read in the training set\n",
    "full_train = pd.read_csv('Prepared_Data/Training_DF_PCA.csv')\n",
    "\n",
    "# Read in the prediction test set\n",
    "test_pred = pd.read_csv('Prepared_Data/Test_DF_PCA.csv')"
   ]
  },
  {
   "cell_type": "code",
   "execution_count": 9,
   "metadata": {},
   "outputs": [],
   "source": [
    "# Change the columns type to category\n",
    "cat_col = ['Year','Month','Day','Time','holiday_ind']\n",
    "full_train[cat_col] = full_train[cat_col].astype('category')\n",
    "# Split the train test of the full train\n",
    "y = full_train['CF'].values\n",
    "X = full_train.drop(['CF','DATETIME'],axis=1).values\n",
    "X_train, X_test, y_train, y_test = train_test_split(X, y, test_size=0.05, shuffle=False)"
   ]
  },
  {
   "cell_type": "markdown",
   "metadata": {},
   "source": [
    "# Grid Search for the best parameter"
   ]
  },
  {
   "cell_type": "code",
   "execution_count": 20,
   "metadata": {},
   "outputs": [
    {
     "name": "stdout",
     "output_type": "stream",
     "text": [
      "[0]\tvalidation_0-mae:0.12759\n",
      "[1]\tvalidation_0-mae:0.12388\n",
      "[2]\tvalidation_0-mae:0.11991\n",
      "[3]\tvalidation_0-mae:0.11642\n",
      "[4]\tvalidation_0-mae:0.11331\n",
      "[5]\tvalidation_0-mae:0.11013\n",
      "[6]\tvalidation_0-mae:0.10701\n",
      "[7]\tvalidation_0-mae:0.10433\n",
      "[8]\tvalidation_0-mae:0.10165\n",
      "[9]\tvalidation_0-mae:0.09956\n",
      "[10]\tvalidation_0-mae:0.09723\n",
      "[11]\tvalidation_0-mae:0.09518\n",
      "[12]\tvalidation_0-mae:0.09338\n",
      "[13]\tvalidation_0-mae:0.09167\n",
      "[14]\tvalidation_0-mae:0.08964\n",
      "[15]\tvalidation_0-mae:0.08797\n",
      "[16]\tvalidation_0-mae:0.08665\n",
      "[17]\tvalidation_0-mae:0.08570\n",
      "[18]\tvalidation_0-mae:0.08437\n",
      "[19]\tvalidation_0-mae:0.08379\n",
      "[20]\tvalidation_0-mae:0.08271\n",
      "[21]\tvalidation_0-mae:0.08158\n",
      "[22]\tvalidation_0-mae:0.08068\n",
      "[23]\tvalidation_0-mae:0.07978\n",
      "[24]\tvalidation_0-mae:0.07890\n",
      "[25]\tvalidation_0-mae:0.07815\n",
      "[26]\tvalidation_0-mae:0.07724\n",
      "[27]\tvalidation_0-mae:0.07620\n",
      "[28]\tvalidation_0-mae:0.07554\n",
      "[29]\tvalidation_0-mae:0.07477\n",
      "[30]\tvalidation_0-mae:0.07385\n",
      "[31]\tvalidation_0-mae:0.07342\n",
      "[32]\tvalidation_0-mae:0.07303\n",
      "[33]\tvalidation_0-mae:0.07278\n",
      "[34]\tvalidation_0-mae:0.07245\n",
      "[35]\tvalidation_0-mae:0.07180\n",
      "[36]\tvalidation_0-mae:0.07128\n",
      "[37]\tvalidation_0-mae:0.07106\n",
      "[38]\tvalidation_0-mae:0.07053\n",
      "[39]\tvalidation_0-mae:0.07003\n",
      "[40]\tvalidation_0-mae:0.06927\n",
      "[41]\tvalidation_0-mae:0.06832\n",
      "[42]\tvalidation_0-mae:0.06796\n",
      "[43]\tvalidation_0-mae:0.06779\n",
      "[44]\tvalidation_0-mae:0.06767\n",
      "[45]\tvalidation_0-mae:0.06727\n",
      "[46]\tvalidation_0-mae:0.06731\n",
      "[47]\tvalidation_0-mae:0.06712\n",
      "[48]\tvalidation_0-mae:0.06702\n",
      "[49]\tvalidation_0-mae:0.06679\n",
      "[50]\tvalidation_0-mae:0.06657\n",
      "[51]\tvalidation_0-mae:0.06686\n",
      "[52]\tvalidation_0-mae:0.06643\n",
      "[53]\tvalidation_0-mae:0.06639\n",
      "[54]\tvalidation_0-mae:0.06610\n",
      "[55]\tvalidation_0-mae:0.06589\n",
      "[56]\tvalidation_0-mae:0.06544\n",
      "[57]\tvalidation_0-mae:0.06531\n",
      "[58]\tvalidation_0-mae:0.06531\n",
      "[59]\tvalidation_0-mae:0.06538\n",
      "[60]\tvalidation_0-mae:0.06550\n",
      "[61]\tvalidation_0-mae:0.06531\n",
      "[62]\tvalidation_0-mae:0.06489\n",
      "[63]\tvalidation_0-mae:0.06491\n",
      "[64]\tvalidation_0-mae:0.06509\n",
      "[65]\tvalidation_0-mae:0.06474\n",
      "[66]\tvalidation_0-mae:0.06428\n",
      "[67]\tvalidation_0-mae:0.06401\n",
      "[68]\tvalidation_0-mae:0.06441\n",
      "[69]\tvalidation_0-mae:0.06422\n",
      "[70]\tvalidation_0-mae:0.06406\n",
      "[71]\tvalidation_0-mae:0.06411\n",
      "[72]\tvalidation_0-mae:0.06405\n",
      "[73]\tvalidation_0-mae:0.06383\n",
      "[74]\tvalidation_0-mae:0.06365\n",
      "[75]\tvalidation_0-mae:0.06381\n",
      "[76]\tvalidation_0-mae:0.06393\n",
      "[77]\tvalidation_0-mae:0.06338\n",
      "[78]\tvalidation_0-mae:0.06320\n",
      "[79]\tvalidation_0-mae:0.06343\n",
      "[80]\tvalidation_0-mae:0.06331\n",
      "[81]\tvalidation_0-mae:0.06345\n",
      "[82]\tvalidation_0-mae:0.06340\n",
      "[83]\tvalidation_0-mae:0.06328\n",
      "[84]\tvalidation_0-mae:0.06340\n",
      "[85]\tvalidation_0-mae:0.06350\n",
      "[86]\tvalidation_0-mae:0.06350\n",
      "[87]\tvalidation_0-mae:0.06338\n",
      "[88]\tvalidation_0-mae:0.06344\n"
     ]
    },
    {
     "name": "stderr",
     "output_type": "stream",
     "text": [
      "/Users/JasonZhang/Library/Python/3.9/lib/python/site-packages/xgboost/sklearn.py:889: UserWarning: `eval_metric` in `fit` method is deprecated for better compatibility with scikit-learn, use `eval_metric` in constructor or`set_params` instead.\n",
      "  warnings.warn(\n"
     ]
    },
    {
     "name": "stdout",
     "output_type": "stream",
     "text": [
      "[89]\tvalidation_0-mae:0.06327\n",
      "[90]\tvalidation_0-mae:0.06322\n",
      "[91]\tvalidation_0-mae:0.06329\n",
      "[92]\tvalidation_0-mae:0.06334\n",
      "[93]\tvalidation_0-mae:0.06299\n",
      "[94]\tvalidation_0-mae:0.06294\n",
      "[95]\tvalidation_0-mae:0.06290\n",
      "[96]\tvalidation_0-mae:0.06306\n",
      "[97]\tvalidation_0-mae:0.06315\n",
      "[98]\tvalidation_0-mae:0.06324\n",
      "[99]\tvalidation_0-mae:0.06295\n"
     ]
    },
    {
     "data": {
      "text/plain": [
       "GridSearchCV(cv=3,\n",
       "             estimator=XGBRegressor(base_score=None, booster=None,\n",
       "                                    callbacks=None, colsample_bylevel=None,\n",
       "                                    colsample_bynode=None,\n",
       "                                    colsample_bytree=None, device=None,\n",
       "                                    early_stopping_rounds=None,\n",
       "                                    enable_categorical=False, eval_metric=None,\n",
       "                                    feature_types=None, gamma=None,\n",
       "                                    grow_policy=None, importance_type=None,\n",
       "                                    interaction_constraints=None,\n",
       "                                    learning_rate=None, m...\n",
       "                                    max_cat_threshold=None,\n",
       "                                    max_cat_to_onehot=None, max_delta_step=None,\n",
       "                                    max_depth=None, max_leaves=None,\n",
       "                                    min_child_weight=None, missing=nan,\n",
       "                                    monotone_constraints=None,\n",
       "                                    multi_strategy=None, n_estimators=None,\n",
       "                                    n_jobs=None, num_parallel_tree=None,\n",
       "                                    random_state=None, ...),\n",
       "             n_jobs=4,\n",
       "             param_grid={'learning_rate': [0.02, 0.05, 0.1, 0.15],\n",
       "                         'max_depth': [3, 7, 10, 15],\n",
       "                         'n_estimators': [100, 300, 600, 900]})"
      ]
     },
     "execution_count": 20,
     "metadata": {},
     "output_type": "execute_result"
    }
   ],
   "source": [
    "# Parameters Grid\n",
    "param_grid = {\n",
    "    'learning_rate': [0.02,0.05, 0.1,0.15],\n",
    "    'max_depth': [3,7,10,15],\n",
    "    'n_estimators': [100, 300, 600,900],\n",
    "}\n",
    "# Initiate XGBoost\n",
    "xgb_model = xgb.XGBRegressor()\n",
    "# Set up the grid search\n",
    "grid_search = GridSearchCV(estimator=xgb_model,\n",
    "                           param_grid=param_grid,\n",
    "                           n_jobs=4,\n",
    "                           cv=3,\n",
    "                           verbose=0)\n",
    "# fit the grid search to find the best parameter\n",
    "grid_search.fit(X_train, y_train,\n",
    "                eval_metric='mae',\n",
    "                eval_set =[(X_test, y_test)])\n"
   ]
  },
  {
   "cell_type": "code",
   "execution_count": 24,
   "metadata": {},
   "outputs": [],
   "source": [
    "# Use the best param\n",
    "forecast_model = xgb.XGBRegressor(**grid_search.best_params_)\n",
    "# Fit the model\n",
    "forecast_model.fit(X_train, y_train)\n",
    "# Predict on the validation \n",
    "val_result = forecast_model.predict(X_test)"
   ]
  },
  {
   "cell_type": "code",
   "execution_count": 41,
   "metadata": {},
   "outputs": [
    {
     "name": "stdout",
     "output_type": "stream",
     "text": [
      "Time 0.041220233\n",
      "Year 0.0024205118\n",
      "Month 0.03273991\n",
      "Day 0.045070045\n",
      "holiday_ind 0.0\n",
      "low_corr_PCA_1 0.01870991\n",
      "low_corr_PCA_2 0.18456481\n",
      "low_corr_PCA_3 0.035011012\n",
      "high_corr_cluster1_PCA_1 0.32431856\n",
      "high_corr_cluster1_PCA_2 0.05360271\n",
      "high_corr_cluster1_PCA_3 0.022041805\n",
      "high_corr_cluster1_PCA_4 0.08085813\n",
      "high_corr_cluster1_PCA_5 0.017757496\n",
      "high_corr_cluster1_PCA_6 0.10408211\n",
      "high_corr_cluster1_PCA_7 0.03760271\n",
      "high_corr_cluster2_PCA_1 0.0\n",
      "high_corr_cluster2_PCA_2 0.0\n",
      "high_corr_cluster2_PCA_3 0.0\n",
      "high_corr_cluster2_PCA_4 0.0\n",
      "high_corr_cluster2_PCA_5 0.0\n",
      "high_corr_cluster2_PCA_6 0.0\n",
      "high_corr_cluster2_PCA_7 0.0\n",
      "high_corr_cluster3_PCA_1 0.0\n",
      "high_corr_cluster3_PCA_2 0.0\n",
      "high_corr_cluster3_PCA_3 0.0\n",
      "high_corr_cluster3_PCA_4 0.0\n",
      "high_corr_cluster3_PCA_5 0.0\n",
      "high_corr_cluster3_PCA_6 0.0\n",
      "high_corr_cluster3_PCA_7 0.0\n"
     ]
    }
   ],
   "source": [
    "# Print feature importance\n",
    "for column, value in zip(full_train.drop(['CF','DATETIME'],axis=1).columns,forecast_model.feature_importances_):\n",
    "    print(column, value)"
   ]
  },
  {
   "cell_type": "code",
   "execution_count": 29,
   "metadata": {},
   "outputs": [
    {
     "data": {
      "text/plain": [
       "<matplotlib.legend.Legend at 0x7ff48141e1f0>"
      ]
     },
     "execution_count": 29,
     "metadata": {},
     "output_type": "execute_result"
    },
    {
     "data": {
      "image/png": "[encoded data removed]",
      "text/plain": [
       "<Figure size 432x288 with 1 Axes>"
      ]
     },
     "metadata": {
      "needs_background": "light"
     },
     "output_type": "display_data"
    }
   ],
   "source": [
    "# Plot the forecast against the validation\n",
    "plt.plot(val_result,label='forecast')\n",
    "plt.plot(y_test,label='test_data')\n",
    "plt.legend()"
   ]
  },
  {
   "cell_type": "code",
   "execution_count": 43,
   "metadata": {},
   "outputs": [],
   "source": [
    "# Turn the testset column into category\n",
    "test_pred[cat_col] = test_pred[cat_col].astype('category')\n",
    "# Get the testset input\n",
    "X_testpred = test_pred.drop(['CF','DATETIME'],axis=1).values\n",
    "\n",
    "# Refit with entire dataset \n",
    "forecast_model.fit(X, y)\n",
    "\n",
    "# Read in the testdata set for holding output\n",
    "test_output = pd.read_excel('Wind_data.xlsx', sheet_name='Predict')\n",
    "\n",
    "# Do prediction\n",
    "test_output['CF'] = forecast_model.predict(X_testpred)"
   ]
  },
  {
   "cell_type": "code",
   "execution_count": 44,
   "metadata": {},
   "outputs": [
    {
     "data": {
      "text/plain": [
       "[<matplotlib.lines.Line2D at 0x7ff491ccb5e0>]"
      ]
     },
     "execution_count": 44,
     "metadata": {},
     "output_type": "execute_result"
    },
    {
     "data": {
      "image/png": "[encoded data removed]",
      "text/plain": [
       "<Figure size 432x288 with 1 Axes>"
      ]
     },
     "metadata": {
      "needs_background": "light"
     },
     "output_type": "display_data"
    }
   ],
   "source": [
    "# Plot and View\n",
    "plt.plot(test_output['DATETIME'].values, test_output['CF'].values)"
   ]
  },
  {
   "cell_type": "code",
   "execution_count": 45,
   "metadata": {},
   "outputs": [],
   "source": [
    "# Write the output\n",
    "test_output.to_csv('final_output.csv',index=False)"
   ]
  }
 ],
 "metadata": {
  "kernelspec": {
   "display_name": "Python 3",
   "language": "python",
   "name": "python3"
  },
  "language_info": {
   "codemirror_mode": {
    "name": "ipython",
    "version": 3
   },
   "file_extension": ".py",
   "mimetype": "text/x-python",
   "name": "python",
   "nbconvert_exporter": "python",
   "pygments_lexer": "ipython3",
   "version": "3.9.0"
  }
 },
 "nbformat": 4,
 "nbformat_minor": 2
}
